{
 "cells": [
  {
   "cell_type": "code",
   "execution_count": 19,
   "metadata": {},
   "outputs": [],
   "source": [
    "from pyspark.sql import SparkSession\n",
    "from pyspark.sql import DataFrame\n",
    "from pyspark.sql import Row\n",
    "from pyspark import SparkConf\n",
    "import pyspark.sql.functions as F\n",
    "from pyspark.sql.window import Window\n",
    "from pyspark.ml.clustering import KMeans\n",
    "import pyspark.sql.types as T\n",
    "import tarfile\n",
    "import datetime "
   ]
  },
  {
   "cell_type": "markdown",
   "metadata": {},
   "source": [
    "Extract the file"
   ]
  },
  {
   "cell_type": "code",
   "execution_count": 114,
   "metadata": {},
   "outputs": [],
   "source": [
    "# assuming the location-data-sample.tar.gz file has been downloaded and put into the same directory\n",
    "tar = tarfile.open('location-data-sample.tar.gz')\n",
    "tar.extractall()\n",
    "tar.close()"
   ]
  },
  {
   "cell_type": "markdown",
   "metadata": {},
   "source": [
    "Initiate `spark` session"
   ]
  },
  {
   "cell_type": "code",
   "execution_count": 2,
   "metadata": {},
   "outputs": [],
   "source": [
    "# spark = SparkSession.builder.config(conf).getOrCreate()\n",
    "spark = SparkSession \\\n",
    "    .builder \\\n",
    "    .appName('freckle') \\\n",
    "    .config('spark.master', 'local[*]') \\\n",
    "    .getOrCreate()\n",
    "#     .config('spark.driver.memory', '6G') \\\n",
    "#     .config('spark.driver.maxResultSize', '6G') \\"
   ]
  },
  {
   "cell_type": "markdown",
   "metadata": {},
   "source": [
    "Read the data into a dataframe"
   ]
  },
  {
   "cell_type": "code",
   "execution_count": 3,
   "metadata": {},
   "outputs": [],
   "source": [
    "df = spark.read.json('location-data-sample')"
   ]
  },
  {
   "cell_type": "markdown",
   "metadata": {},
   "source": [
    "Group by `idfa`, so some aliasing and take a look at the summary of the resulting dataframe.\n",
    "This will give us what `Instruction 3` asks for, i.e., the max, min, avg, std deviation of the number of location events per IDFA."
   ]
  },
  {
   "cell_type": "code",
   "execution_count": 4,
   "metadata": {},
   "outputs": [
    {
     "name": "stdout",
     "output_type": "stream",
     "text": [
      "+-------+------------------+\n",
      "|summary|       event_count|\n",
      "+-------+------------------+\n",
      "|  count|            238211|\n",
      "|   mean|  36.7517578953113|\n",
      "| stddev|118.61139276213814|\n",
      "|    min|                 1|\n",
      "|    max|             15979|\n",
      "+-------+------------------+\n",
      "\n"
     ]
    }
   ],
   "source": [
    "df.groupBy('idfa').count() \\\n",
    "  .select(F.col('count').cast('integer').alias('event_count')).describe().show()"
   ]
  },
  {
   "cell_type": "markdown",
   "metadata": {},
   "source": [
    "Get an idea about the schema structure and columns."
   ]
  },
  {
   "cell_type": "code",
   "execution_count": 46,
   "metadata": {},
   "outputs": [
    {
     "name": "stdout",
     "output_type": "stream",
     "text": [
      "root\n",
      " |-- action: string (nullable = true)\n",
      " |-- api_key: string (nullable = true)\n",
      " |-- app_id: string (nullable = true)\n",
      " |-- beacon_major: long (nullable = true)\n",
      " |-- beacon_minor: long (nullable = true)\n",
      " |-- beacon_uuid: string (nullable = true)\n",
      " |-- city: string (nullable = true)\n",
      " |-- code: string (nullable = true)\n",
      " |-- community: string (nullable = true)\n",
      " |-- community_code: string (nullable = true)\n",
      " |-- country_code: string (nullable = true)\n",
      " |-- county: string (nullable = true)\n",
      " |-- county_code: string (nullable = true)\n",
      " |-- event_time: long (nullable = true)\n",
      " |-- geohash: string (nullable = true)\n",
      " |-- horizontal_accuracy: double (nullable = true)\n",
      " |-- idfa: string (nullable = true)\n",
      " |-- idfa_hash_alg: string (nullable = true)\n",
      " |-- lat: double (nullable = true)\n",
      " |-- lng: double (nullable = true)\n",
      " |-- place: string (nullable = true)\n",
      " |-- platform: string (nullable = true)\n",
      " |-- state: string (nullable = true)\n",
      " |-- state_code: string (nullable = true)\n",
      " |-- user_ip: string (nullable = true)\n",
      "\n"
     ]
    }
   ],
   "source": [
    "df.printSchema()"
   ]
  },
  {
   "cell_type": "markdown",
   "metadata": {},
   "source": [
    "Looks like `GeoHash` is already given in the dataset, so we can just use it instead of recomputing it from the `lat` and `lng` columns.\n",
    "As per `Instruction 4`, we need to produce geohashes in a separate dataframe. This is done below, however, for looking for possible clusters later on as per `Instruction 5`, we are also taking the `idfa` and `event_time` columns along with `geohash` column."
   ]
  },
  {
   "cell_type": "code",
   "execution_count": 9,
   "metadata": {},
   "outputs": [],
   "source": [
    "gdf = df.select(['geohash', 'idfa', 'event_time'])"
   ]
  },
  {
   "cell_type": "markdown",
   "metadata": {},
   "source": [
    "# Approaches\n",
    "\n",
    "For finding possible clusters of people, we follow two approaches. \n",
    "- First, we will try a simple way based on only location (geohash) across the entire time period that the dataset covers.\n",
    "- Secondly, we will try locating clusters in smaller time intervals."
   ]
  },
  {
   "cell_type": "markdown",
   "metadata": {},
   "source": [
    "## Approach 1\n",
    "For the first approach we define the following function called `find_clusters_by_location` that takes one parameter aside from the dataframe, the accuracy level (number of `geohash` digits) we want to find the cluster for."
   ]
  },
  {
   "cell_type": "code",
   "execution_count": 6,
   "metadata": {},
   "outputs": [],
   "source": [
    "def find_clusters_by_location(gdf, geohash_precision):\n",
    "    area_code = 'area_code_{}'.format(geohash_precision)\n",
    "    gdf = gdf.withColumn(area_code, gdf['geohash'][0:geohash_precision])\n",
    "    count_stat = gdf.groupBy(area_code).agg(F.countDistinct(gdf['idfa']).alias('count_idfa')) \\\n",
    "                    .orderBy(['count_idfa'], ascending=[0])\n",
    "    return count_stat"
   ]
  },
  {
   "cell_type": "markdown",
   "metadata": {},
   "source": [
    "Let's try to find top 20 clusters like this using different geohash accuracy levels."
   ]
  },
  {
   "cell_type": "code",
   "execution_count": 7,
   "metadata": {},
   "outputs": [],
   "source": [
    "def save_and_show_clusters(gdf, geohash_precision, rows):\n",
    "    clusters_df = find_clusters_by_location(gdf, geohash_precision)\n",
    "    clusters_df.repartition(1).write.parquet('location_clusters_{}.parquet'.format(geohash_precision))\n",
    "    clusters_df.show(rows)"
   ]
  },
  {
   "cell_type": "code",
   "execution_count": 149,
   "metadata": {},
   "outputs": [
    {
     "name": "stdout",
     "output_type": "stream",
     "text": [
      "+------------+----------+\n",
      "|area_code_12|count_idfa|\n",
      "+------------+----------+\n",
      "|s00000000000|      4427|\n",
      "|djfq0rzn7m70|        75|\n",
      "|dq21mmek4q6q|        73|\n",
      "|9vkh7wddguw5|        63|\n",
      "|dpz8336uu2eq|        61|\n",
      "|f244mdxpncbp|        58|\n",
      "|dpm5wpyg42f9|        52|\n",
      "|djfmbs7xs1j8|        48|\n",
      "|f241b833vv6j|        47|\n",
      "|djgzq3q23u2p|        46|\n",
      "|djkvw9r4j8vp|        45|\n",
      "|djt54wb39fhy|        44|\n",
      "|dn6m9tgey6mq|        44|\n",
      "|djdxvzvm9wvu|        43|\n",
      "|dnkkg7cw8k1b|        39|\n",
      "|dpscv16bk3zf|        38|\n",
      "|dpherfur8ezf|        38|\n",
      "|dnq1zws4u9te|        38|\n",
      "|f2418x4h86s2|        37|\n",
      "|c28rvbv6s3tc|        37|\n",
      "+------------+----------+\n",
      "only showing top 20 rows\n",
      "\n"
     ]
    }
   ],
   "source": [
    "# accuracy level 12 (which is like within a few centemeters from each other)\n",
    "save_and_show_clusters(gdf, 12, 20)"
   ]
  },
  {
   "cell_type": "code",
   "execution_count": 49,
   "metadata": {},
   "outputs": [
    {
     "name": "stdout",
     "output_type": "stream",
     "text": [
      "+-----------+----------+\n",
      "|area_code_6|count_idfa|\n",
      "+-----------+----------+\n",
      "|     s00000|      4428|\n",
      "|     dpz833|       394|\n",
      "|     dpz83d|       356|\n",
      "|     dpz839|       331|\n",
      "|     dpz83e|       319|\n",
      "|     dpz832|       283|\n",
      "|     dpz838|       260|\n",
      "|     c2b2q7|       238|\n",
      "|     dpz83s|       237|\n",
      "|     dpz83m|       232|\n",
      "|     f25dvg|       229|\n",
      "|     dpz836|       225|\n",
      "|     dpz83f|       217|\n",
      "|     dpz80z|       217|\n",
      "|     dpz83t|       213|\n",
      "|     dpz83c|       208|\n",
      "|     dpz831|       206|\n",
      "|     f244mt|       201|\n",
      "|     dpz83w|       184|\n",
      "|     f25dvf|       178|\n",
      "+-----------+----------+\n",
      "only showing top 20 rows\n",
      "\n"
     ]
    }
   ],
   "source": [
    "# accuracy level 6 (which is like within a kilometer from each other)\n",
    "save_and_show_clusters(gdf, 6, 20)"
   ]
  },
  {
   "cell_type": "code",
   "execution_count": 135,
   "metadata": {},
   "outputs": [
    {
     "name": "stdout",
     "output_type": "stream",
     "text": [
      "+-----------+----------+\n",
      "|area_code_3|count_idfa|\n",
      "+-----------+----------+\n",
      "|        dpz|     10363|\n",
      "|        dqc|      5948|\n",
      "|        dr4|      5239|\n",
      "|        9vg|      5126|\n",
      "|        9vk|      5098|\n",
      "|        dpx|      4979|\n",
      "|        dps|      4871|\n",
      "|        s00|      4433|\n",
      "|        dn5|      4166|\n",
      "|        dph|      3759|\n",
      "|        dp3|      3726|\n",
      "|        dr1|      3677|\n",
      "|        f25|      3520|\n",
      "|        dnh|      3424|\n",
      "|        9vf|      3390|\n",
      "|        djg|      3247|\n",
      "|        dr5|      3179|\n",
      "|        dju|      3056|\n",
      "|        dn6|      3024|\n",
      "|        f24|      2977|\n",
      "+-----------+----------+\n",
      "only showing top 20 rows\n",
      "\n"
     ]
    }
   ],
   "source": [
    "# accuracy level 3 (which is like within 100 kilometers from each other)\n",
    "save_and_show_clusters(gdf, 3, 20)"
   ]
  },
  {
   "cell_type": "markdown",
   "metadata": {},
   "source": [
    "A few discrete analyses to get cities/area around the geohash prefix."
   ]
  },
  {
   "cell_type": "code",
   "execution_count": 138,
   "metadata": {},
   "outputs": [
    {
     "name": "stdout",
     "output_type": "stream",
     "text": [
      "+---------+------------+\n",
      "|     city|country_code|\n",
      "+---------+------------+\n",
      "|Barrigada|          GU|\n",
      "+---------+------------+\n",
      "\n"
     ]
    }
   ],
   "source": [
    "# a few discrete analysis to get cities/area around the geohash prefix\n",
    "df.where(df['geohash'][0:3] == 's00').select('city', 'country_code').distinct().show(20)"
   ]
  },
  {
   "cell_type": "code",
   "execution_count": 140,
   "metadata": {},
   "outputs": [
    {
     "name": "stdout",
     "output_type": "stream",
     "text": [
      "+--------------------+------------+\n",
      "|                city|country_code|\n",
      "+--------------------+------------+\n",
      "|           Shelburne|          CA|\n",
      "|             Orillia|          CA|\n",
      "|         Mississauga|          CA|\n",
      "|          New Lowell|          CA|\n",
      "|            Georgina|          CA|\n",
      "|             Caledon|          CA|\n",
      "|              Minden|          CA|\n",
      "|               Acton|          CA|\n",
      "|          Sunderland|          CA|\n",
      "|          Port Perry|          CA|\n",
      "|              Oshawa|          CA|\n",
      "|           Pickering|          CA|\n",
      "|Whitchurch-Stouff...|          CA|\n",
      "|          Blackstock|          CA|\n",
      "|            Courtice|          CA|\n",
      "|        Wasaga Beach|          CA|\n",
      "|             Vaughan|          CA|\n",
      "|         Collingwood|          CA|\n",
      "|                Ajax|          CA|\n",
      "|           Newmarket|          CA|\n",
      "+--------------------+------------+\n",
      "only showing top 20 rows\n",
      "\n"
     ]
    }
   ],
   "source": [
    "df.where(df['geohash'][0:3] == 'dpz').select('city', 'country_code').distinct().show()"
   ]
  },
  {
   "cell_type": "markdown",
   "metadata": {},
   "source": [
    "## Observation\n",
    "\n",
    "It looks like there is definitely a cluster going on at `geohash` `s00000000000`, which is a cluster of 4427 distinct people (`idfa`). However, since this is in full 12-digit precision of the geohash, which is a matter of a few centimeters, it probably indicates those people were all on some specific point of interest, like a landmark or something like that. From the analysis above, it looks like it is a point in the village of `Barrigada` in `Guam`.\n",
    "\n",
    "Things don't change too much if we bring down the precision to 6, which is still a pretty small distance of like 1 kilometer. Still `s00000` is the highest cluster zone. However, we do see some other smaller clusters appearing.\n",
    "\n",
    "At a precision of 3, which is like 100 kilometers, however, things seem to change quite a bit. The geohash `dpz` seems to be the dominant cluster with 10363 different people (idfa). From the anaysis above, `dpz` seems to be a bunch of towns and cities in `Ontario`, `Canada`. The `s00` area seems to move to position 8 in order in terms of number of different `idfa`s.\n",
    "\n",
    "As a decision, it really depends on how big or small of an area range we consider as a cluster-area. That in turn, will depend on the specific kind of business/problem we are dealing with."
   ]
  },
  {
   "cell_type": "markdown",
   "metadata": {},
   "source": [
    "## Approach 2\n",
    "\n",
    "Now let's try clustering considering a smaller time range. For a quick way of doing this, we could try dividing the entire time span into some time buckets and consider clusters of people for events that happened within that time bucket only.\n",
    "\n",
    "For example, we could try dividing the entire time span into buckets of 2 hours (7200 seconds) and consider clusters of people for events that happened within that time bucket only.\n",
    "\n",
    "Before going ahead, let's do a quick analysis on how much time period the entire dataset covers."
   ]
  },
  {
   "cell_type": "code",
   "execution_count": 11,
   "metadata": {},
   "outputs": [
    {
     "name": "stdout",
     "output_type": "stream",
     "text": [
      "1491004658\n",
      "2017-03-31 19:57:38\n",
      "1491091296\n",
      "2017-04-01 20:01:36\n"
     ]
    }
   ],
   "source": [
    "min_time = gdf.groupBy().min('event_time').collect()[0][0]\n",
    "max_time = gdf.groupBy().max('event_time').collect()[0][0]\n",
    "print(min_time)\n",
    "min_time_str = datetime.datetime.fromtimestamp(min_time).strftime('%Y-%m-%d %H:%M:%S')\n",
    "print(min_time_str)\n",
    "print(max_time)\n",
    "max_time_str = datetime.datetime.fromtimestamp(max_time).strftime('%Y-%m-%d %H:%M:%S')\n",
    "print(max_time_str)"
   ]
  },
  {
   "cell_type": "markdown",
   "metadata": {},
   "source": [
    "It looks like the entire period is just a few minutes over a day. So the location-based approach (Approach 1) might not have been too bad. However, let's carry on some finer time-grained analysis."
   ]
  },
  {
   "cell_type": "markdown",
   "metadata": {},
   "source": [
    "Now define a function that will calculate the time buckets with a supplied bucket interval."
   ]
  },
  {
   "cell_type": "code",
   "execution_count": 12,
   "metadata": {},
   "outputs": [],
   "source": [
    "def get_df_with_time_bucket(df, bucket_interval):\n",
    "    time_buckets_start = [i for i in range(min_time, max_time + 1, bucket_interval)]\n",
    "    time_buckets_end = [i for i in range(min_time + bucket_interval - 1, max_time + bucket_interval, bucket_interval)]\n",
    "    time_buckets = [time_buckets_start, time_buckets_end]\n",
    "    R = Row('start_time', 'end_time')\n",
    "    time_df = spark.sparkContext.parallelize([R(*r) for r in zip(*time_buckets)]).toDF()\n",
    "    df = gdf.join(time_df, (gdf.event_time >= time_df.start_time) & (gdf.event_time <= time_df.end_time), 'inner')\n",
    "    return df"
   ]
  },
  {
   "cell_type": "markdown",
   "metadata": {},
   "source": [
    "Now we can write modified versions of our functions from Approach 1 that uses both location and time buckets and tries to find the top cluster within each time bucket. (These functions can be easily modified to find the top-k clusters)"
   ]
  },
  {
   "cell_type": "code",
   "execution_count": 43,
   "metadata": {},
   "outputs": [],
   "source": [
    "def find_clusters_by_location_and_time_bucket(gdf, geohash_precision, time_bucket_interval):\n",
    "    area_code = 'area_code_{}'.format(geohash_precision)\n",
    "    gdf = gdf.withColumn(area_code, gdf['geohash'][0:geohash_precision])\n",
    "    gdf_time = get_df_with_time_bucket(gdf, time_bucket_interval)\n",
    "    gdf_time = gdf_time.withColumn(area_code, gdf_time['geohash'][0:geohash_precision])\n",
    "    count_stat = \\\n",
    "        gdf_time.groupBy(area_code, 'start_time').agg(F.countDistinct(gdf_time['idfa']).alias('count_idfa')) \\\n",
    "        .withColumn('row_number', F.row_number().over(Window.partitionBy('start_time').orderBy(F.col('count_idfa').desc())))              \n",
    "    \n",
    "    count_stat = count_stat.where(count_stat['row_number'] == 1).orderBy(F.col('start_time')) \\\n",
    "                           .select(area_code, 'start_time', 'count_idfa')\n",
    "    return count_stat"
   ]
  },
  {
   "cell_type": "code",
   "execution_count": 44,
   "metadata": {},
   "outputs": [],
   "source": [
    "def save_and_show_clusters_with_time_bucket(gdf, geohash_precision, time_bucket_interval, rows=30):\n",
    "    clusters_df = find_clusters_by_location_and_time_bucket(gdf, geohash_precision, time_bucket_interval)\n",
    "    clusters_df.repartition(1).write.parquet('location_time_clusters_{}.parquet'.format(geohash_precision))\n",
    "    clusters_df.show(rows)"
   ]
  },
  {
   "cell_type": "markdown",
   "metadata": {},
   "source": [
    "Now we can examine clusters for different location and time buckets by tuning the `geohash_precision` and `time_bucket_interval` parameters. Similar to approach 1, let's try finding the clusters for `geohash_precision` 12, 6, 3 and with a `time_bucket_interval` of half 2 hours (7200 seconds)."
   ]
  },
  {
   "cell_type": "code",
   "execution_count": 45,
   "metadata": {},
   "outputs": [
    {
     "name": "stdout",
     "output_type": "stream",
     "text": [
      "+------------+----------+----------+\n",
      "|area_code_12|start_time|count_idfa|\n",
      "+------------+----------+----------+\n",
      "|s00000000000|1491004658|       549|\n",
      "|s00000000000|1491011858|       448|\n",
      "|s00000000000|1491019058|       268|\n",
      "|s00000000000|1491026258|       108|\n",
      "|s00000000000|1491033458|        75|\n",
      "|s00000000000|1491040658|       151|\n",
      "|s00000000000|1491047858|       435|\n",
      "|s00000000000|1491055058|       595|\n",
      "|s00000000000|1491062258|       676|\n",
      "|s00000000000|1491069458|       597|\n",
      "|s00000000000|1491076658|       619|\n",
      "|s00000000000|1491083858|       588|\n",
      "|s00000000000|1491091058|        13|\n",
      "+------------+----------+----------+\n",
      "\n"
     ]
    }
   ],
   "source": [
    "save_and_show_clusters_with_time_bucket(gdf, 12, 7200)"
   ]
  },
  {
   "cell_type": "code",
   "execution_count": 46,
   "metadata": {},
   "outputs": [
    {
     "name": "stdout",
     "output_type": "stream",
     "text": [
      "+-----------+----------+----------+\n",
      "|area_code_6|start_time|count_idfa|\n",
      "+-----------+----------+----------+\n",
      "|     s00000|1491004658|       550|\n",
      "|     s00000|1491011858|       448|\n",
      "|     s00000|1491019058|       268|\n",
      "|     s00000|1491026258|       108|\n",
      "|     s00000|1491033458|        75|\n",
      "|     s00000|1491040658|       151|\n",
      "|     s00000|1491047858|       435|\n",
      "|     s00000|1491055058|       595|\n",
      "|     s00000|1491062258|       676|\n",
      "|     s00000|1491069458|       597|\n",
      "|     s00000|1491076658|       619|\n",
      "|     s00000|1491083858|       588|\n",
      "|     s00000|1491091058|        13|\n",
      "+-----------+----------+----------+\n",
      "\n"
     ]
    }
   ],
   "source": [
    "save_and_show_clusters_with_time_bucket(gdf, 6, 7200)"
   ]
  },
  {
   "cell_type": "code",
   "execution_count": 47,
   "metadata": {},
   "outputs": [
    {
     "name": "stdout",
     "output_type": "stream",
     "text": [
      "+-----------+----------+----------+\n",
      "|area_code_3|start_time|count_idfa|\n",
      "+-----------+----------+----------+\n",
      "|        dpz|1491004658|      4317|\n",
      "|        dpz|1491011858|      3713|\n",
      "|        dpz|1491019058|      2606|\n",
      "|        dqc|1491026258|      1782|\n",
      "|        dqc|1491033458|      1773|\n",
      "|        dqc|1491040658|      2258|\n",
      "|        dpz|1491047858|      3744|\n",
      "|        dpz|1491055058|      4502|\n",
      "|        dpz|1491062258|      4815|\n",
      "|        dpz|1491069458|      4806|\n",
      "|        dpz|1491076658|      4764|\n",
      "|        dpz|1491083858|      4551|\n",
      "|        dpz|1491091058|       363|\n",
      "+-----------+----------+----------+\n",
      "\n"
     ]
    }
   ],
   "source": [
    "save_and_show_clusters_with_time_bucket(gdf, 3, 7200)"
   ]
  },
  {
   "cell_type": "markdown",
   "metadata": {},
   "source": [
    "## Observation\n",
    "\n",
    "It turns out there is not too much difference in the time-bucketed results from the results that we got in Approach 1.\n",
    "At higher location precisions (area within 1 kilometer or less), still the `s000000` prefixed `geohash` seems to have the dominating clusters throughout the entire period.\n",
    "\n",
    "Also, in lower location precisions (area around 100 kilometers), most of the time throughout the period the `dpz` geohash seems to have the dominating cluster. However, there is a period of 6 hours or so (around April 1, 2017 2 -8 PM EST), where geohash `dqc` (cities mainly in Maryland, US) seems to dominate.\n",
    "\n",
    "In this way, we can tune the `geohash` and `time_bucket` parameters to find out finer-grained clusters. Also, the way we define the time buckets might be a factor here. We have followed a naive approach of defining the buckets, but it can be defined other ways as well."
   ]
  },
  {
   "cell_type": "markdown",
   "metadata": {},
   "source": [
    "# Additional analysis\n",
    "\n",
    "We can perform a numberof additional analyses on the dataset for finding user behaviour. For shortage of time, we perform one simple analysis. We try to find the distinct geohashes per `idfa` (user) and get an idea about how far users are possibly roaming. Interestingly, this analysis also points out **an error inour original analysis** as we will see below. For simplicity, we will do the analysis with only the first 3 digits of the `geohash`."
   ]
  },
  {
   "cell_type": "code",
   "execution_count": 108,
   "metadata": {},
   "outputs": [],
   "source": [
    "gdf_with_geo_3 = gdf.withColumn('area_code_3', gdf['geohash'][0:3])"
   ]
  },
  {
   "cell_type": "code",
   "execution_count": 109,
   "metadata": {},
   "outputs": [],
   "source": [
    "count_stat = gdf_with_geo_3.groupBy('idfa').agg(F.countDistinct('area_code_3').alias('count_geo_3')) \\\n",
    "                        .orderBy('count_geo_3', ascending=False)"
   ]
  },
  {
   "cell_type": "code",
   "execution_count": 106,
   "metadata": {},
   "outputs": [
    {
     "data": {
      "text/plain": [
       "238211"
      ]
     },
     "execution_count": 106,
     "metadata": {},
     "output_type": "execute_result"
    }
   ],
   "source": [
    "count_stat.count()"
   ]
  },
  {
   "cell_type": "code",
   "execution_count": 105,
   "metadata": {},
   "outputs": [
    {
     "data": {
      "text/plain": [
       "195852"
      ]
     },
     "execution_count": 105,
     "metadata": {},
     "output_type": "execute_result"
    }
   ],
   "source": [
    "count_stat.where('count_geo_3 == 1').count()"
   ]
  },
  {
   "cell_type": "markdown",
   "metadata": {},
   "source": [
    "So from the above counts, it looks like the majority (over 80%) of users are not roaming too much, which is expected. Let's have a look at the data where an `idfa` covers more than 1 distinct 3-digit prefixed geohashes."
   ]
  },
  {
   "cell_type": "code",
   "execution_count": 107,
   "metadata": {},
   "outputs": [
    {
     "name": "stdout",
     "output_type": "stream",
     "text": [
      "+------------------------------------+-----------+\n",
      "|idfa                                |count_geo_3|\n",
      "+------------------------------------+-----------+\n",
      "|00000000-0000-0000-0000-000000000000|424        |\n",
      "|653b5c7a-64d2-4b73-9ddf-47a00c95a6e6|20         |\n",
      "|97cca691-c2d9-4e0c-8039-ac336bf9f7fb|20         |\n",
      "|13df7837-02a8-4d8c-9e0f-5491af634a1a|20         |\n",
      "|a19d0dca-af40-4c9f-b7a8-ae04481822d5|19         |\n",
      "|3439e5f3-77aa-4b15-831e-0bce48218421|19         |\n",
      "|45606497-5fab-484c-8d18-03a31a1e30e9|19         |\n",
      "|d7ece31d-8022-4e8e-a0a1-a735cb1f5041|18         |\n",
      "|be7c52ae-6ba7-4c88-a34c-cf59ca226873|18         |\n",
      "|3a1934f4-6810-4463-be4f-7cb0ea7fbfb2|18         |\n",
      "|2960d8de-1383-4384-adf9-ebf9b06187da|18         |\n",
      "|7685fd11-2594-4a71-9fa0-3f12356fe92f|17         |\n",
      "|84a210e6-9411-4345-ac37-b3d83e48c723|17         |\n",
      "|1df55f52-136c-449a-855f-8587929ba615|16         |\n",
      "|65d3cf09-acb3-44ad-bc0f-c97d61a62a63|16         |\n",
      "|7e2a913e-f0af-4b97-8e7e-d3fb0cb161ef|16         |\n",
      "|362eb796-25b8-4835-964f-4447e479d3f2|16         |\n",
      "|f979ed6f-0461-46c5-8538-440797d6be32|15         |\n",
      "|1f1edd60-383d-42e3-851c-d0afbf84f491|15         |\n",
      "|ddab1a9e-36ba-4b1b-8936-9ed5b6f7e9d9|15         |\n",
      "|74eac213-504f-43dc-a91b-969412679a65|15         |\n",
      "|843600f6-5878-4b7f-9720-d3177708de1c|15         |\n",
      "|c5775337-658f-4d2a-bf11-08d1e4338ef1|14         |\n",
      "|ff98caa0-778a-4f6d-a9fc-8db554559728|14         |\n",
      "|4afc0bd7-99a4-4a2f-9bab-e854a0f6e128|14         |\n",
      "|b7994b41-9fc3-4df4-ad89-9cc8b6711d0d|14         |\n",
      "|c028c2c6-0d23-46b4-b924-e5618c20fd2b|14         |\n",
      "|15079d9b-85e0-4ddf-8f2d-e5f7a877b497|14         |\n",
      "|97226df1-d278-4527-b764-3ff7580c47aa|14         |\n",
      "|7360e2a4-9d0b-4fa4-a35b-d41d1dbb160d|14         |\n",
      "|6566b88e-af19-460c-a79b-a4454e3350d7|14         |\n",
      "|4157ea97-d465-43c7-baa2-1f05c779364b|14         |\n",
      "|eec71910-dd21-4f69-b12b-c692867c9bf7|14         |\n",
      "|6832447f-27c6-4110-b4d7-cc0de2e3a68a|14         |\n",
      "|f315c0eb-a229-4840-ba6f-66571fcd59d6|14         |\n",
      "|8c3d40da-76b7-4267-a4aa-7c998a9a7e01|14         |\n",
      "|d8f9913c-b7eb-446c-9ead-fb1d932675d9|13         |\n",
      "|edfea952-b1a6-44c1-b50c-99949ae7c1f7|13         |\n",
      "|bc987ee1-c485-4a75-b9af-3ac8916773c9|13         |\n",
      "|8fc2ac29-8fa6-4718-91ac-fcc1c7c2c2e5|13         |\n",
      "|f531b9a8-62bf-4138-a375-0963e5433125|13         |\n",
      "|1e588609-11f0-48b4-836c-f4c6c9f0cfe5|13         |\n",
      "|3e870402-2c10-498e-889f-4e477a8352bd|13         |\n",
      "|a5aa5426-d847-4d00-841b-1fe1521974a6|13         |\n",
      "|2a8fc861-0d04-47fa-ad8d-81455959654a|13         |\n",
      "|a67b8893-08b4-4217-ab88-27cf49e86173|13         |\n",
      "|0bf708d6-20f6-4de5-82c9-695ef2021458|13         |\n",
      "|97e9f3a0-586c-4786-aec3-687e139247c5|13         |\n",
      "|f2c61d85-59df-4f17-ad25-12e5775a6789|13         |\n",
      "|19966cce-6334-4749-b874-77a80b4f40b1|13         |\n",
      "|4ebf2bc0-a872-4285-ad66-39bf9e756fab|13         |\n",
      "|fafd6042-589f-41d6-9c22-0bce679b2532|13         |\n",
      "|edb3ad6a-80be-4af9-a297-ae0200ae2087|12         |\n",
      "|cf0d2c3a-bb5e-4b28-a441-34da7f1a0387|12         |\n",
      "|09101989-9139-4653-a720-4f67cb8f646f|12         |\n",
      "|1488f4d1-bb33-4808-9a39-fd78e7cc19cc|12         |\n",
      "|b305cda6-2f0d-484d-83b7-a5c442e90ef4|12         |\n",
      "|72132be0-e67d-4e34-bf10-b3cd2e754c04|12         |\n",
      "|120b73bc-e3b2-455e-98cc-ba5748f83793|12         |\n",
      "|c16f0f40-e347-48d1-8713-ada28637cec4|12         |\n",
      "|e5648cef-4e31-4a22-822a-ba163927bae1|12         |\n",
      "|7c333245-ca12-4f19-a9b8-ff4b0b38997c|12         |\n",
      "|d09fe849-e800-4ef9-aa93-442eb80a516c|12         |\n",
      "|99cdc0b3-46cc-4911-97bb-e5702ad73945|12         |\n",
      "|41db7643-5f88-4c7e-9c8e-a13ffef33506|12         |\n",
      "|fcf08e18-5599-428c-9569-70272ce83cda|12         |\n",
      "|01d131e0-3c45-4e89-b473-d44a8a6be534|12         |\n",
      "|d00d1aff-e0c9-480b-b5ba-97193be8b8c0|12         |\n",
      "|391013e5-2907-49f0-9a9a-4d1af3610686|12         |\n",
      "|c76f7d71-6db6-4337-a1b8-64ebfd7804c0|12         |\n",
      "|80171ff7-dbb8-4375-b9f3-6132d40c80fc|12         |\n",
      "|3dc445c7-1b68-4931-b0da-767666cf3ef4|12         |\n",
      "|7c9a8c78-26e1-4241-a551-e4fbebab6684|12         |\n",
      "|85f96257-4183-48d6-858f-80ce985ee52a|12         |\n",
      "|462577a6-af70-4fed-b5b9-3db63ad20d54|12         |\n",
      "|907e2e13-17ad-4c06-be23-9c1a8930df81|12         |\n",
      "|067a7a80-50c4-4ea5-af84-64ff9c9c3b76|12         |\n",
      "|a832b44e-2f23-4bb9-af28-cfec908a7198|12         |\n",
      "|e88302ac-d68d-4ca5-8676-68e522bdb6f6|12         |\n",
      "|a5a2b3c6-fadf-4cdf-a539-d069c8c547fe|12         |\n",
      "|5f8f27de-b8e7-46a0-916d-0446ed8c2e54|12         |\n",
      "|38709e6a-3740-44a9-9e8e-c4c3cb0703e8|12         |\n",
      "|9a4dbd53-7a5f-4d8e-b092-012f0cfa28ce|11         |\n",
      "|16696f70-c58e-4b32-a21f-0114bbcea16b|11         |\n",
      "|0487b0f3-a614-415e-9eb7-6eabd3a756d1|11         |\n",
      "|043d1993-e0c5-4378-8c5c-bd24dd9c7458|11         |\n",
      "|42bf7b55-6b7b-4e26-bbee-000881d52436|11         |\n",
      "|6f921296-a33a-4920-a055-9376a7d42a92|11         |\n",
      "|fa6de6a2-64be-4e33-9ecf-4e369b665663|11         |\n",
      "|f8e394d8-f156-4e20-bd20-1e3794e41582|11         |\n",
      "|0a82f1e8-15fd-425f-bc3c-ea4869e1236a|11         |\n",
      "|0664db04-05af-4c02-90bd-0d0b03604803|11         |\n",
      "|ead3a882-4fce-4953-8ae6-dbf6150e4aa1|11         |\n",
      "|d240e7f4-c3d1-4b39-9e7f-6429bb9dc062|11         |\n",
      "|fac1d97a-0803-4e2c-a70c-3d7ff565b46c|11         |\n",
      "|9d0c2320-46c2-40c1-8c56-6ebc1e049f66|11         |\n",
      "|b7321b07-66ef-4f7f-a65e-bfc087fa5f59|11         |\n",
      "|3486bb43-be00-4534-8a7a-25359df241af|11         |\n",
      "|4be8b9c1-0991-48b6-a3ae-65c01b712e41|11         |\n",
      "|41777049-671c-4502-958b-69abd798c982|11         |\n",
      "+------------------------------------+-----------+\n",
      "only showing top 100 rows\n",
      "\n"
     ]
    }
   ],
   "source": [
    "count_stat.where('count_geo_3 > 1').show(100, False)"
   ]
  },
  {
   "cell_type": "markdown",
   "metadata": {},
   "source": [
    "Now here's the interesting finding. Looks like the `idfa` with all 0's covers the most number of areas. However, this all 0 `idfa` is not really a distinct user, it is the default `idfa` that is used for devices that has limited ad-tracking. So this row doesn't really give us a roaming information, rather points out the fact that there are a lot of users around the world who have limited ad-tracking set on their devices, and it's well possible that individually these users don't cover a lot of geographic area (do not roam too much).\n",
    "\n",
    "Also, here is the **error in our original analysis**. The original analysis considered each `idfa` as a distinct user. However, as we see now, the all 0 `idfa` is not actually one single user. This may not change the general conclusions of our original analysis, but this is something to be considered.\n",
    "\n",
    "Now, there seems to be quite a few other `idfa`s that is roaming over different 3-digit geohashes.\n",
    "For simplicity, let's try to find this by using even bigger geographic areas, namely with only the first digit of `geohash`."
   ]
  },
  {
   "cell_type": "code",
   "execution_count": 119,
   "metadata": {},
   "outputs": [
    {
     "data": {
      "text/plain": [
       "DataFrame[geohash: string, idfa: string, event_time: bigint, area_code_1: string]"
      ]
     },
     "execution_count": 119,
     "metadata": {},
     "output_type": "execute_result"
    }
   ],
   "source": [
    "gdf_with_geo_1 = gdf.withColumn('area_code_1', gdf['geohash'][0:1])"
   ]
  },
  {
   "cell_type": "code",
   "execution_count": 120,
   "metadata": {},
   "outputs": [],
   "source": [
    "count_stat_1 = gdf_with_geo_1.groupBy('idfa').agg(F.countDistinct('area_code_1').alias('count_geo_1')) \\\n",
    "                        .orderBy('count_geo_1', ascending=False)"
   ]
  },
  {
   "cell_type": "code",
   "execution_count": 121,
   "metadata": {},
   "outputs": [
    {
     "name": "stdout",
     "output_type": "stream",
     "text": [
      "+------------------------------------+-----------+\n",
      "|idfa                                |count_geo_1|\n",
      "+------------------------------------+-----------+\n",
      "|00000000-0000-0000-0000-000000000000|16         |\n",
      "|c1869823-9618-4cda-bf95-6df51074a78a|4          |\n",
      "|d092bbf5-16b6-406f-8f26-6e3f0c2781fe|3          |\n",
      "|ff45bbfd-46f3-414d-bece-6e07edebe650|3          |\n",
      "|ba77aaee-5042-4ab2-b916-a27141d96067|3          |\n",
      "|cc9b1c70-38da-4555-931d-52266b9958bf|3          |\n",
      "|808eb093-ea01-49f0-a905-0f0ccd9b8784|3          |\n",
      "|08164428-3fa4-42df-9738-1678488af3ff|3          |\n",
      "|b986562c-4751-431d-89e8-19d4fb940d4e|3          |\n",
      "|21714129-ca02-49bb-8ad5-d931bcbb91fe|3          |\n",
      "|8ee3cd08-5942-49d8-95e2-3a81af2b614d|3          |\n",
      "|954a669a-f1e9-4907-92e7-3ea3d5ac193a|3          |\n",
      "|def36e7c-b116-478d-afef-5ee7f50871a9|3          |\n",
      "|905c1e70-b4ee-41df-b8bc-23011a1adf56|3          |\n",
      "|ed502ede-3341-481c-bb52-cddc565d6d22|3          |\n",
      "|3d63e2ea-d78a-48bb-8623-c3b57eb83c46|3          |\n",
      "|b338f208-89f7-4af8-b788-cf3b94693e3e|3          |\n",
      "|30547f69-5146-47be-86db-a8117ca7563d|3          |\n",
      "|db6c422d-771d-4399-a7c1-7c0863747ba3|3          |\n",
      "|168a46ac-747e-4e5f-9a36-83366338b378|3          |\n",
      "|abba2d48-7551-4b5d-b530-67b425634485|3          |\n",
      "|37214458-b1dc-459a-ad89-01cc520c22b7|3          |\n",
      "|8b3a121d-ce5d-4e69-a116-a606a2d62357|3          |\n",
      "|7a2a2fc5-2bb3-4c1d-95c3-08b874df96b5|3          |\n",
      "|0e0761ca-72fa-4663-bdfa-59fa494daf28|3          |\n",
      "|342d3737-e3df-4039-8005-a525cc4a279e|3          |\n",
      "|3d1d0f16-ac04-4fb2-a582-160575f9f9cf|3          |\n",
      "|4155819c-6aa1-4581-824a-999ccfdee4fe|3          |\n",
      "|a7b71ba5-9f71-4bec-9cd2-b102803ea1a4|3          |\n",
      "|8fc2ac29-8fa6-4718-91ac-fcc1c7c2c2e5|3          |\n",
      "|67756411-1273-4103-aa0a-2e4227fe7a9e|3          |\n",
      "|7ec3a40e-c12d-4a9e-b434-5e9566cf66d4|3          |\n",
      "|df57cdd2-ed78-4f5a-b500-1902679e5fe7|3          |\n",
      "|762e97c3-081e-4db7-9db3-5947c61278cc|3          |\n",
      "|495f68bc-d767-480f-93e2-beddf8646874|3          |\n",
      "|e84c61de-d97b-4791-a010-6d08e202eac9|3          |\n",
      "|867dc218-f328-40e2-a1d0-e7ede354ef0f|3          |\n",
      "|0c35af35-4d09-40b4-89a5-64d1b0781f63|3          |\n",
      "|ef738c1b-e46b-4844-8635-91509eeedcf4|3          |\n",
      "|9fd5df1e-71f3-4df6-b3f2-30e52b6b9627|3          |\n",
      "|8ccf5cff-10df-45ab-a7ef-c990ecfe4403|3          |\n",
      "|707e0aac-b4a4-4fe6-84dc-81c4cb4f6873|3          |\n",
      "|0fc300c2-65b0-4bb4-acad-824b55bb9b05|3          |\n",
      "|0749e3ff-f969-4f1a-b8ef-1680f70aca15|3          |\n",
      "|1b385829-e3a9-4ce8-aacb-800650ef2e1d|3          |\n",
      "|2607a99f-f341-413b-94df-c756bb4a35e7|3          |\n",
      "|ef49616b-5514-4e08-8879-1567c757342c|3          |\n",
      "|e61a1ac6-c11c-4775-a5b3-97142e06d75a|3          |\n",
      "|ad572b07-8f33-4483-a92f-f2579f7a6923|3          |\n",
      "|ec1473c8-de2b-4420-afd0-f1a552ae10eb|3          |\n",
      "|27abc5bc-8f5c-4129-af46-17210abbdd84|3          |\n",
      "|2cd7474d-0a0b-4f9b-825c-d7c8bf71e967|3          |\n",
      "|44854ec2-0295-4070-8306-278327acbd3c|3          |\n",
      "|cb957459-370d-482e-adca-e031686004e8|3          |\n",
      "|4dcd2010-214e-4d56-9dab-0619a43f9057|3          |\n",
      "|64749461-ceaa-4bff-9cbe-0c2a717822dc|3          |\n",
      "|6a688f70-153d-4aaa-96ee-c54a9e3f0cb1|3          |\n",
      "|48b2e4d8-d584-4757-9072-c8f9401d4965|3          |\n",
      "|d240e7f4-c3d1-4b39-9e7f-6429bb9dc062|3          |\n",
      "|3a8858dd-6bc4-40d0-98bb-95683e288e6c|3          |\n",
      "|4f3b1d40-e4b0-41fa-82db-be2ceead9f27|3          |\n",
      "|d515b370-b227-49f3-b228-6f67f69d0988|3          |\n",
      "|a67b8893-08b4-4217-ab88-27cf49e86173|3          |\n",
      "|da9f3079-2738-4212-a25c-fbb63388c040|3          |\n",
      "|26b630ce-32eb-4992-ae33-a2541ea63458|3          |\n",
      "|db94502f-65aa-4b50-8193-9a6ca04472b6|3          |\n",
      "|79616f99-8d3c-4226-a563-e744608fe8ab|3          |\n",
      "|1cbd6ac0-659a-4805-b96a-56bd6238dbd1|3          |\n",
      "|da37090d-1e66-41d5-94de-7433277ebb47|3          |\n",
      "|b39f83cf-3085-4adf-bd68-4afc49ae4ce5|3          |\n",
      "|d7ece31d-8022-4e8e-a0a1-a735cb1f5041|3          |\n",
      "|6a7d689e-a8af-4371-925f-307b93cc4144|3          |\n",
      "|447c42eb-1cff-4ce2-95d6-a24cb1d379db|3          |\n",
      "|a438d416-56dc-4c7e-bb15-089c612b44fe|3          |\n",
      "|2b7e2f40-e08c-4c76-b79d-379f79f8150f|3          |\n",
      "|4b76586a-9bb7-4950-bee5-b737d52f7220|3          |\n",
      "|64a5170a-02e7-485e-97ce-09752fb5eb93|3          |\n",
      "|da491b86-74db-47d8-88fe-ac40337689be|3          |\n",
      "|0fc15a8c-765f-4eb3-b594-b87dfc9baf53|3          |\n",
      "|dbe2685a-2d33-4cce-9d2f-3e561ab6a8ab|3          |\n",
      "|c73d988e-ced6-4eb3-9815-4ebf9922be9f|3          |\n",
      "|f167ff6d-333e-4491-95aa-be503f7ed00a|3          |\n",
      "|0ab537f2-b4de-4264-8212-69e103f24c67|3          |\n",
      "|6d0a6074-eaf1-4f53-93c8-d28e61a83c1d|3          |\n",
      "|333c1c77-40e4-443b-9319-1e5027bc40a1|3          |\n",
      "|e3e43e46-f054-48cf-b384-5de521dede49|2          |\n",
      "|5833e5f6-3dac-4d77-9868-78cfbdaa3732|2          |\n",
      "|7f564bf8-5a05-4b24-afdd-91bda215f63d|2          |\n",
      "|3de0fb11-ab52-426b-90d8-fcae5def0246|2          |\n",
      "|eab8480e-ac24-4f4b-9f6b-3105618bf422|2          |\n",
      "|e6b0e7e8-841d-40ea-acd6-8a19acb8268d|2          |\n",
      "|c1f3d5b8-ce07-44ef-be6f-26c2246e3270|2          |\n",
      "|8008415b-7a53-4c88-a897-bbf0fb572a19|2          |\n",
      "|5de429d5-18e9-4aea-9a53-dc7a4e88656f|2          |\n",
      "|38cc704e-b351-41b8-9e9e-f229b787c4ba|2          |\n",
      "|1d2bf1e7-ed26-4810-aa90-4f747a2ff35e|2          |\n",
      "|00fe5a41-06ad-4ab2-8122-7d2c0da9decf|2          |\n",
      "|14eb9a11-923f-4401-bcaf-058a9dbdc2f1|2          |\n",
      "|8427cc01-d730-406f-bc94-72a004bd124d|2          |\n",
      "|c0d4a13c-34aa-418b-9fb5-670d15b41947|2          |\n",
      "+------------------------------------+-----------+\n",
      "only showing top 100 rows\n",
      "\n"
     ]
    }
   ],
   "source": [
    "count_stat_1.where('count_geo_1 > 1').show(100, False)"
   ]
  },
  {
   "cell_type": "markdown",
   "metadata": {},
   "source": [
    "Now let's use one of the above `idfa`s (aside from the all 0 one) to see what geographic are he is roaming in."
   ]
  },
  {
   "cell_type": "code",
   "execution_count": 123,
   "metadata": {},
   "outputs": [
    {
     "name": "stdout",
     "output_type": "stream",
     "text": [
      "+-----------+\n",
      "|area_code_1|\n",
      "+-----------+\n",
      "|          f|\n",
      "|          d|\n",
      "|          c|\n",
      "|          9|\n",
      "+-----------+\n",
      "\n"
     ]
    }
   ],
   "source": [
    "gdf_with_geo_1.where(gdf_with_geo_1['idfa'] == 'c1869823-9618-4cda-bf95-6df51074a78a').select('area_code_1') \\\n",
    "    .distinct().show()"
   ]
  },
  {
   "cell_type": "markdown",
   "metadata": {},
   "source": [
    "So it turns out we have users who roamed around and covered quite a bit around the world. However, overall the number of such users is low. \n",
    "\n",
    "The analysis, of course, is not complete. We can dig into this further and try figuring out user behaviour using and tuning different parameters. For shortage of time, we are ending our analysis here."
   ]
  },
  {
   "cell_type": "code",
   "execution_count": 124,
   "metadata": {},
   "outputs": [],
   "source": [
    "# count_stat_reverse = gdf.groupBy('idfa', gdf['geohash'][0:3]).count()"
   ]
  },
  {
   "cell_type": "code",
   "execution_count": 125,
   "metadata": {},
   "outputs": [],
   "source": [
    "# df.where(df['idfa'] == '00000000-0000-0000-0000-000000000000').select(df['geohash'][0:3]).distinct().count()"
   ]
  },
  {
   "cell_type": "code",
   "execution_count": 126,
   "metadata": {},
   "outputs": [],
   "source": [
    "# count_stat_with_time.orderBy(['count_idfa', 'event_span'], ascending=[0, 1]).show(100)"
   ]
  },
  {
   "cell_type": "code",
   "execution_count": 127,
   "metadata": {},
   "outputs": [],
   "source": [
    "# df.where(df['geohash'][0:3] == 'dqc').select('city', 'country_code', 'geohash').distinct().show(20)"
   ]
  }
 ],
 "metadata": {
  "kernelspec": {
   "display_name": "Python 3",
   "language": "python",
   "name": "python3"
  },
  "language_info": {
   "codemirror_mode": {
    "name": "ipython",
    "version": 3
   },
   "file_extension": ".py",
   "mimetype": "text/x-python",
   "name": "python",
   "nbconvert_exporter": "python",
   "pygments_lexer": "ipython3",
   "version": "3.6.2"
  }
 },
 "nbformat": 4,
 "nbformat_minor": 2
}
